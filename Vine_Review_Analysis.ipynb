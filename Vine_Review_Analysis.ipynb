{
  "nbformat": 4,
  "nbformat_minor": 0,
  "metadata": {
    "colab": {
      "name": "Vine_Review_Analysis",
      "provenance": [],
      "collapsed_sections": []
    },
    "kernelspec": {
      "name": "python3",
      "display_name": "Python 3"
    },
    "language_info": {
      "name": "python"
    }
  },
  "cells": [
    {
      "cell_type": "code",
      "execution_count": null,
      "metadata": {
        "colab": {
          "base_uri": "https://localhost:8080/"
        },
        "id": "1jLk4nGGJc5U",
        "outputId": "c0d5581d-7415-4893-9398-37366e202032"
      },
      "outputs": [
        {
          "output_type": "stream",
          "name": "stdout",
          "text": [
            "\r0% [Working]\r            \rGet:1 http://security.ubuntu.com/ubuntu bionic-security InRelease [88.7 kB]\n",
            "\r0% [Connecting to archive.ubuntu.com] [1 InRelease 14.2 kB/88.7 kB 16%] [Connec\r                                                                               \rHit:2 https://developer.download.nvidia.com/compute/cuda/repos/ubuntu1804/x86_64  InRelease\n",
            "\r0% [Connecting to archive.ubuntu.com (91.189.91.39)] [1 InRelease 17.1 kB/88.7 \r0% [2 InRelease gpgv 1,575 B] [Connecting to archive.ubuntu.com (91.189.91.39)]\r                                                                               \rGet:3 https://cloud.r-project.org/bin/linux/ubuntu bionic-cran40/ InRelease [3,626 B]\n",
            "Hit:4 http://archive.ubuntu.com/ubuntu bionic InRelease\n",
            "Ign:5 https://developer.download.nvidia.com/compute/machine-learning/repos/ubuntu1804/x86_64  InRelease\n",
            "Get:6 http://archive.ubuntu.com/ubuntu bionic-updates InRelease [88.7 kB]\n",
            "Hit:7 https://developer.download.nvidia.com/compute/machine-learning/repos/ubuntu1804/x86_64  Release\n",
            "Get:8 http://ppa.launchpad.net/c2d4u.team/c2d4u4.0+/ubuntu bionic InRelease [15.9 kB]\n",
            "Get:9 http://archive.ubuntu.com/ubuntu bionic-backports InRelease [74.6 kB]\n",
            "Hit:10 http://ppa.launchpad.net/cran/libgit2/ubuntu bionic InRelease\n",
            "Hit:11 http://ppa.launchpad.net/deadsnakes/ppa/ubuntu bionic InRelease\n",
            "Hit:12 http://ppa.launchpad.net/graphics-drivers/ppa/ubuntu bionic InRelease\n",
            "Get:14 http://archive.ubuntu.com/ubuntu bionic-updates/main amd64 Packages [3,167 kB]\n",
            "Get:15 http://ppa.launchpad.net/c2d4u.team/c2d4u4.0+/ubuntu bionic/main Sources [1,953 kB]\n",
            "Get:16 http://ppa.launchpad.net/c2d4u.team/c2d4u4.0+/ubuntu bionic/main amd64 Packages [1,001 kB]\n",
            "Fetched 6,393 kB in 3s (2,027 kB/s)\n",
            "Reading package lists... Done\n"
          ]
        }
      ],
      "source": [
        "import os\n",
        "# Find the latest version of spark 3.0 from http://www.apache.org/dist/spark/ and enter as the spark version\n",
        "# For example:\n",
        "# spark_version = 'spark-3.0.3'\n",
        "spark_version = 'spark-3.0.3'\n",
        "os.environ['SPARK_VERSION']=spark_version\n",
        "\n",
        "# Install Spark and Java\n",
        "!apt-get update\n",
        "!apt-get install openjdk-11-jdk-headless -qq > /dev/null\n",
        "!wget -q http://www.apache.org/dist/spark/$SPARK_VERSION/$SPARK_VERSION-bin-hadoop2.7.tgz\n",
        "!tar xf $SPARK_VERSION-bin-hadoop2.7.tgz\n",
        "!pip install -q findspark\n",
        "\n",
        "# Set Environment Variables\n",
        "import os\n",
        "os.environ[\"JAVA_HOME\"] = \"/usr/lib/jvm/java-11-openjdk-amd64\"\n",
        "os.environ[\"SPARK_HOME\"] = f\"/content/{spark_version}-bin-hadoop2.7\"\n",
        "\n",
        "# Start a SparkSession\n",
        "import findspark\n",
        "findspark.init()"
      ]
    },
    {
      "cell_type": "code",
      "source": [
        "from pyspark.sql import SparkSession\n",
        "spark = SparkSession.builder.appName(\"M16-Amazon-Challenge\").config(\"spark.driver.extraClassPath\",\"/content/postgresql-42.2.16.jar\").getOrCreate()"
      ],
      "metadata": {
        "id": "RmWQPcawJz_I"
      },
      "execution_count": null,
      "outputs": []
    },
    {
      "cell_type": "code",
      "source": [
        "from pyspark import SparkFiles\n",
        "url = \"https://s3.amazonaws.com/amazon-reviews-pds/tsv/amazon_reviews_us_Grocery_v1_00.tsv.gz\"\n",
        "spark.sparkContext.addFile(url)\n",
        "df = spark.read.option(\"encoding\", \"UTF-8\").csv(SparkFiles.get(\"\"), sep=\"\\t\", header=True, inferSchema=True)\n",
        "df.show()"
      ],
      "metadata": {
        "colab": {
          "base_uri": "https://localhost:8080/"
        },
        "id": "WInhamrDJ0bl",
        "outputId": "3efdad5b-2482-4cfc-d220-16c22c963a2e"
      },
      "execution_count": null,
      "outputs": [
        {
          "output_type": "stream",
          "name": "stdout",
          "text": [
            "+-----------+-----------+--------------+----------+--------------+--------------------+----------------+-----------+-------------+-----------+----+-----------------+--------------------+--------------------+-----------+\n",
            "|marketplace|customer_id|     review_id|product_id|product_parent|       product_title|product_category|star_rating|helpful_votes|total_votes|vine|verified_purchase|     review_headline|         review_body|review_date|\n",
            "+-----------+-----------+--------------+----------+--------------+--------------------+----------------+-----------+-------------+-----------+----+-----------------+--------------------+--------------------+-----------+\n",
            "|         US|   42521656|R26MV8D0KG6QI6|B000SAQCWC|     159713740|The Cravings Plac...|         Grocery|          5|            0|          0|   N|                Y|Using these for y...|As a family aller...| 2015-08-31|\n",
            "|         US|   12049833|R1OF8GP57AQ1A0|B00509LVIQ|     138680402|Mauna Loa Macadam...|         Grocery|          5|            0|          0|   N|                Y|           Wonderful|My favorite nut. ...| 2015-08-31|\n",
            "|         US|     107642|R3VDC1QB6MC4ZZ|B00KHXESLC|     252021703|Organic Matcha Gr...|         Grocery|          5|            0|          0|   N|                N|          Five Stars|This green tea ta...| 2015-08-31|\n",
            "|         US|    6042304|R12FA3DCF8F9ER|B000F8JIIC|     752728342|15oz Raspberry Ly...|         Grocery|          5|            0|          0|   N|                Y|          Five Stars|I love Melissa's ...| 2015-08-31|\n",
            "|         US|   18123821| RTWHVNV6X4CNJ|B004ZWR9RQ|     552138758|Stride Spark Kine...|         Grocery|          5|            0|          0|   N|                Y|          Five Stars|                good| 2015-08-31|\n",
            "|         US|   23649464| RIG9AWFOGRDVO|B00AL6QBZ6|     681475449|Herr's Popcorn Ho...|         Grocery|          2|            1|          1|   N|                Y|           Not Happy|The popcorn was s...| 2015-08-31|\n",
            "|         US|   32778285|R1S1XSG4ZCHDGS|B00BCNSTRA|     578681693|Larabar uber, 1.4...|         Grocery|          5|            1|          1|   N|                Y|          Five Stars|Love these bars, ...| 2015-08-31|\n",
            "|         US|   46612941| RB15NBVY5ELVW|B0089MM2BG|     350968436|Shirakiku Soba No...|         Grocery|          5|            2|          2|   N|                Y|          Five Stars|Love the taste bu...| 2015-08-31|\n",
            "|         US|   31525399| R56358YM1ZJ7I|B00Y1C9770|     729982780|Jif Chocolate Nut...|         Grocery|          5|            0|          0|   N|                N|      Great tasting!|I'm a member of t...| 2015-08-31|\n",
            "|         US|   19624355|R1ODXB3C9UP3NL|B00J074W94|       2499702|Orgain Organic Pl...|         Grocery|          1|            1|          3|   N|                N|Disgusting now an...|Used to be a dece...| 2015-08-31|\n",
            "|         US|   31910375|R155ZMVLD5C9BP|B0001VKKOO|     189938205|Bragg - All Natur...|         Grocery|          4|            3|          4|   N|                Y|If you like soy s...|I cannot tell the...| 2015-08-31|\n",
            "|         US|   12816533|R2IXW43PUNYM0G|B007TGH4CK|     398128262|Wholesome Sweeten...|         Grocery|          4|            1|          1|   N|                Y|          Four Stars|Good flavor and s...| 2015-08-31|\n",
            "|         US|   23208852|R3LYEG1QCK2BG0|B002HMN6SC|      18057786|Kadoya Pure Sesam...|         Grocery|          5|            0|          0|   N|                Y|          Five Stars|Great to use in r...| 2015-08-31|\n",
            "|         US|   17348415|R20LREICPM3YH0|B004NRHAZO|     595020880|Nishiki Premium B...|         Grocery|          5|            0|          0|   N|                Y|          Five Stars|It's rice. Have e...| 2015-08-31|\n",
            "|         US|   46763945| RHA5COCZDVB13|B00V7LJIG8|     173088090|Everly Passion Fr...|         Grocery|          5|            0|          0|   N|                Y|          Five Stars|Very good tasting...| 2015-08-31|\n",
            "|         US|     961747| RT9BGRQANMANE|B0000E2YFI|     120269621|Charms Blue Razzb...|         Grocery|          5|            0|          0|   N|                Y|           Excellent|They were perfect...| 2015-08-31|\n",
            "|         US|   16888081| ROD1TU5JCS7JQ|B00VK5SQOQ|     204992966|Food Should Taste...|         Grocery|          5|            0|          0|   N|                N|              YUMMY!|Wow, these are so...| 2015-08-31|\n",
            "|         US|   22765168|R3T6TTD2IN0EFZ|B00XDXMLL2|     971154239|Skippy Creamy Pea...|         Grocery|          1|            4|          4|   N|                N|1 Out Of 5 Of My ...|I bought this fro...| 2015-08-31|\n",
            "|         US|   36328996|R1OCUGZ444NKV3|B00MN4KX3A|     787182505|Celestial Seasoni...|         Grocery|          5|            5|          5|   N|                Y|delicious tea and...|I love this tea, ...| 2015-08-31|\n",
            "|         US|   27092724| RCQQGWTC4J4TZ|B004NTCE1M|     653570135|Nutiva Organic Vi...|         Grocery|          4|            0|          0|   N|                Y|    Best coconut oil|I have used servo...| 2015-08-31|\n",
            "+-----------+-----------+--------------+----------+--------------+--------------------+----------------+-----------+-------------+-----------+----+-----------------+--------------------+--------------------+-----------+\n",
            "only showing top 20 rows\n",
            "\n"
          ]
        }
      ]
    },
    {
      "cell_type": "markdown",
      "source": [
        "**Recreate the vine_table**"
      ],
      "metadata": {
        "id": "4gJpNuk9KZk_"
      }
    },
    {
      "cell_type": "code",
      "source": [
        "df = df.dropna()\n",
        "df = df.dropDuplicates()\n",
        "\n",
        "vine_df = df.select([\"review_id\", \"star_rating\", \"helpful_votes\", \"total_votes\", \"vine\", \"verified_purchase\"])\n",
        "vine_df.show()"
      ],
      "metadata": {
        "colab": {
          "base_uri": "https://localhost:8080/"
        },
        "id": "x3PKCo45J0id",
        "outputId": "61835f69-08ed-4ccc-824b-3112be28f47d"
      },
      "execution_count": null,
      "outputs": [
        {
          "output_type": "stream",
          "name": "stdout",
          "text": [
            "+--------------+-----------+-------------+-----------+----+-----------------+\n",
            "|     review_id|star_rating|helpful_votes|total_votes|vine|verified_purchase|\n",
            "+--------------+-----------+-------------+-----------+----+-----------------+\n",
            "|R100WFYHG5LBQZ|          5|            0|          0|   N|                Y|\n",
            "|R10174PSJAET60|          4|           14|         16|   N|                Y|\n",
            "|R101DUK4KGSZKO|          5|            1|          1|   N|                N|\n",
            "|R102BWOXH8BAGB|          5|            0|          0|   N|                Y|\n",
            "|R102FRHV3HVRYH|          1|            2|          2|   N|                Y|\n",
            "|R102FVV96K2XPX|          5|            0|          1|   N|                Y|\n",
            "|R102NGGB4MYAUU|          5|            1|          1|   N|                Y|\n",
            "|R103DLW6KGTI1T|          5|            4|          4|   N|                Y|\n",
            "|R103KHSB6CGXI6|          5|            0|          0|   N|                N|\n",
            "|R103STKNZXONLT|          5|            2|          2|   N|                Y|\n",
            "|R103ZT2DYXD1PT|          5|            0|          0|   N|                Y|\n",
            "|R1050BKZKF25VY|          3|            1|          1|   N|                N|\n",
            "|R1056ENMKS02UI|          5|            0|          0|   N|                Y|\n",
            "|R106AXUR0NY7Q3|          5|            0|          0|   N|                Y|\n",
            "|R106F7QWXGDXM9|          5|            0|          0|   N|                Y|\n",
            "|R106WSCGKLQW88|          1|            4|          4|   N|                Y|\n",
            "|R106XSGG8Z7DOJ|          1|            2|          3|   N|                N|\n",
            "|R1070VWD79Q3ZM|          5|            0|          0|   N|                Y|\n",
            "|R107CBDY923TG6|          5|            4|          4|   N|                Y|\n",
            "|R107IMY6GGMP2Z|          1|            1|          1|   N|                Y|\n",
            "+--------------+-----------+-------------+-----------+----+-----------------+\n",
            "only showing top 20 rows\n",
            "\n"
          ]
        }
      ]
    },
    {
      "cell_type": "code",
      "source": [
        "# 1. Filter the data and create a new DataFrame or table to retrieve all the rows where the total_votes count is equal to or greater than 20 \n",
        "# to pick reviews that are more likely to be helpful and to avoid having division by zero errors later on.\n",
        "\n",
        "total_votes_df = vine_df.filter(\"total_votes>=20\")\n",
        "total_votes_df.show()"
      ],
      "metadata": {
        "colab": {
          "base_uri": "https://localhost:8080/"
        },
        "id": "kscqWk6WJ0pU",
        "outputId": "5e1fb099-a09c-4997-ed11-db07954994ea"
      },
      "execution_count": null,
      "outputs": [
        {
          "output_type": "stream",
          "name": "stdout",
          "text": [
            "+--------------+-----------+-------------+-----------+----+-----------------+\n",
            "|     review_id|star_rating|helpful_votes|total_votes|vine|verified_purchase|\n",
            "+--------------+-----------+-------------+-----------+----+-----------------+\n",
            "|R3JC4MEOAZUXKG|          1|           27|         37|   N|                Y|\n",
            "| RW6VHD6C7V05E|          5|           30|         31|   N|                N|\n",
            "|R3EQAM3BUUO3R7|          2|           39|         47|   N|                Y|\n",
            "|R24M17EDWWOGQY|          2|          105|        124|   N|                Y|\n",
            "|R3FKGM8DT5EGO5|          4|          230|        232|   N|                Y|\n",
            "|R3A2ZUDBT9P0EL|          5|           30|         30|   N|                Y|\n",
            "|R1L2FO5G71HEI0|          1|           19|         21|   N|                N|\n",
            "|R17JB3EEJ6NNT1|          2|           74|         77|   N|                Y|\n",
            "|R1OJ6PLL53VH8K|          5|           45|         50|   N|                N|\n",
            "| R9RAU5XCLE64R|          4|           11|         27|   N|                Y|\n",
            "| R1KM0DBK74Z3R|          5|          115|        119|   N|                N|\n",
            "|R35QIGG6WTPQH5|          3|           47|        139|   N|                Y|\n",
            "|R3T4HINM69I38K|          1|           27|         31|   N|                N|\n",
            "|R2IDDQMDC67W3Z|          5|           32|         34|   N|                Y|\n",
            "|R37RN3JT1XGWQP|          1|           20|         20|   N|                Y|\n",
            "|R34MOM6UWMK1XQ|          2|           91|        122|   N|                Y|\n",
            "| RCV62OQO4MUYP|          5|           25|         25|   N|                Y|\n",
            "|R2CHBK4ZPVJ389|          5|           18|         22|   N|                N|\n",
            "| RIUWOFZ472SXI|          2|           24|         24|   N|                Y|\n",
            "|R31SUU9WQ0DLGX|          4|           20|         21|   N|                N|\n",
            "+--------------+-----------+-------------+-----------+----+-----------------+\n",
            "only showing top 20 rows\n",
            "\n"
          ]
        }
      ]
    },
    {
      "cell_type": "code",
      "source": [
        "# 2. Filter the new DataFrame or table created in Step 1 and create a new DataFrame or table to retrieve all the rows where the number of \n",
        "# helpful_votes divided by total_votes is equal to or greater than 50%.\n",
        "from pyspark.sql.functions import round, col\n",
        "helpful_ratio_df = total_votes_df.withColumn('helpful_ratio', round(total_votes_df['helpful_votes']/ total_votes_df['total_votes']*100, 2))\n",
        "helpful_df = helpful_ratio_df.filter(\"helpful_ratio>= 50\")\n",
        "helpful_df.show()"
      ],
      "metadata": {
        "colab": {
          "base_uri": "https://localhost:8080/"
        },
        "id": "u4K8mPCSJ0v5",
        "outputId": "8b48bc74-0d3b-4615-e13d-260fa77f1629"
      },
      "execution_count": null,
      "outputs": [
        {
          "output_type": "stream",
          "name": "stdout",
          "text": [
            "+--------------+-----------+-------------+-----------+----+-----------------+-------------+\n",
            "|     review_id|star_rating|helpful_votes|total_votes|vine|verified_purchase|helpful_ratio|\n",
            "+--------------+-----------+-------------+-----------+----+-----------------+-------------+\n",
            "|R3JC4MEOAZUXKG|          1|           27|         37|   N|                Y|        72.97|\n",
            "| RW6VHD6C7V05E|          5|           30|         31|   N|                N|        96.77|\n",
            "|R3EQAM3BUUO3R7|          2|           39|         47|   N|                Y|        82.98|\n",
            "|R24M17EDWWOGQY|          2|          105|        124|   N|                Y|        84.68|\n",
            "|R3FKGM8DT5EGO5|          4|          230|        232|   N|                Y|        99.14|\n",
            "|R3A2ZUDBT9P0EL|          5|           30|         30|   N|                Y|        100.0|\n",
            "|R1L2FO5G71HEI0|          1|           19|         21|   N|                N|        90.48|\n",
            "|R17JB3EEJ6NNT1|          2|           74|         77|   N|                Y|         96.1|\n",
            "|R1OJ6PLL53VH8K|          5|           45|         50|   N|                N|         90.0|\n",
            "| R1KM0DBK74Z3R|          5|          115|        119|   N|                N|        96.64|\n",
            "|R3T4HINM69I38K|          1|           27|         31|   N|                N|         87.1|\n",
            "|R2IDDQMDC67W3Z|          5|           32|         34|   N|                Y|        94.12|\n",
            "|R37RN3JT1XGWQP|          1|           20|         20|   N|                Y|        100.0|\n",
            "|R34MOM6UWMK1XQ|          2|           91|        122|   N|                Y|        74.59|\n",
            "| RCV62OQO4MUYP|          5|           25|         25|   N|                Y|        100.0|\n",
            "|R2CHBK4ZPVJ389|          5|           18|         22|   N|                N|        81.82|\n",
            "| RIUWOFZ472SXI|          2|           24|         24|   N|                Y|        100.0|\n",
            "|R31SUU9WQ0DLGX|          4|           20|         21|   N|                N|        95.24|\n",
            "| R6KI6K8CV94TN|          2|           20|         28|   N|                Y|        71.43|\n",
            "|R1I951J088J1IR|          5|           21|         23|   N|                Y|         91.3|\n",
            "+--------------+-----------+-------------+-----------+----+-----------------+-------------+\n",
            "only showing top 20 rows\n",
            "\n"
          ]
        }
      ]
    },
    {
      "cell_type": "code",
      "source": [
        "# 3. Filter the DataFrame or table created in Step 2, and create a new DataFrame or table that retrieves all the rows where a review was \n",
        "# written as part of the Vine program (paid), vine == 'Y'.\n",
        "vine_reviewed_df = helpful_df.filter(\"vine = 'Y'\")\n",
        "vine_reviewed_df.show()"
      ],
      "metadata": {
        "colab": {
          "base_uri": "https://localhost:8080/"
        },
        "id": "vUV0Jc7wJ021",
        "outputId": "f1ecaefb-6316-428a-aa2a-17c508e6f0de"
      },
      "execution_count": null,
      "outputs": [
        {
          "output_type": "stream",
          "name": "stdout",
          "text": [
            "+--------------+-----------+-------------+-----------+----+-----------------+-------------+\n",
            "|     review_id|star_rating|helpful_votes|total_votes|vine|verified_purchase|helpful_ratio|\n",
            "+--------------+-----------+-------------+-----------+----+-----------------+-------------+\n",
            "|R30IWXU9RENY1Y|          3|           15|         24|   Y|                N|         62.5|\n",
            "|R39IHYTIR8S03C|          4|           29|         36|   Y|                N|        80.56|\n",
            "|R2G965AP9Q5P4J|          5|           21|         23|   Y|                N|         91.3|\n",
            "|R3T621TI8ZPHKS|          1|          123|        152|   Y|                N|        80.92|\n",
            "|R2TMZ7GV8SPIRV|          4|           23|         23|   Y|                N|        100.0|\n",
            "|R2EOSZN3YYDV6L|          4|           27|         31|   Y|                N|         87.1|\n",
            "|R354Z6LHDF3XMO|          5|           37|         40|   Y|                N|         92.5|\n",
            "|R1S9CD7RIIIBR3|          5|           30|         33|   Y|                N|        90.91|\n",
            "| RMDRU8I773X5U|          4|           22|         25|   Y|                N|         88.0|\n",
            "|R3OPNTK61FQ7MP|          5|           32|         37|   Y|                N|        86.49|\n",
            "|R26RUBA4LJDO6O|          5|           32|         34|   Y|                N|        94.12|\n",
            "|R2468B29TH95KN|          1|          205|        224|   Y|                N|        91.52|\n",
            "|R366NWJD7RK9EP|          4|           33|         37|   Y|                N|        89.19|\n",
            "|R1PZPI2GELGHCU|          5|           47|         53|   Y|                N|        88.68|\n",
            "|R3BV8N52HPNJJM|          4|           18|         20|   Y|                N|         90.0|\n",
            "| RE1VUG1GHTQYP|          4|           22|         26|   Y|                N|        84.62|\n",
            "|R1EU4X7W4JG1S4|          2|           52|         69|   Y|                N|        75.36|\n",
            "|R1HAVGFU4QGLI7|          1|           15|         21|   Y|                N|        71.43|\n",
            "|R13CEXESMDKT3D|          3|           33|         36|   Y|                N|        91.67|\n",
            "|R2TXJ25AXCSKXK|          4|           39|         40|   Y|                N|         97.5|\n",
            "+--------------+-----------+-------------+-----------+----+-----------------+-------------+\n",
            "only showing top 20 rows\n",
            "\n"
          ]
        }
      ]
    },
    {
      "cell_type": "code",
      "source": [
        "# 4. Repeat Step 3, but this time retrieve all the rows where the review was not part of the Vine program (unpaid), vine == 'N'\n",
        "vine_not_reviewed_df = helpful_df.filter(\"vine = 'N'\")\n",
        "vine_not_reviewed_df.show()"
      ],
      "metadata": {
        "colab": {
          "base_uri": "https://localhost:8080/"
        },
        "id": "Hxu45VGpJ09v",
        "outputId": "fc5e671a-4dfa-4605-f927-f819e3ef5012"
      },
      "execution_count": null,
      "outputs": [
        {
          "output_type": "stream",
          "name": "stdout",
          "text": [
            "+--------------+-----------+-------------+-----------+----+-----------------+-------------+\n",
            "|     review_id|star_rating|helpful_votes|total_votes|vine|verified_purchase|helpful_ratio|\n",
            "+--------------+-----------+-------------+-----------+----+-----------------+-------------+\n",
            "|R3JC4MEOAZUXKG|          1|           27|         37|   N|                Y|        72.97|\n",
            "| RW6VHD6C7V05E|          5|           30|         31|   N|                N|        96.77|\n",
            "|R3EQAM3BUUO3R7|          2|           39|         47|   N|                Y|        82.98|\n",
            "|R24M17EDWWOGQY|          2|          105|        124|   N|                Y|        84.68|\n",
            "|R3FKGM8DT5EGO5|          4|          230|        232|   N|                Y|        99.14|\n",
            "|R3A2ZUDBT9P0EL|          5|           30|         30|   N|                Y|        100.0|\n",
            "|R1L2FO5G71HEI0|          1|           19|         21|   N|                N|        90.48|\n",
            "|R17JB3EEJ6NNT1|          2|           74|         77|   N|                Y|         96.1|\n",
            "|R1OJ6PLL53VH8K|          5|           45|         50|   N|                N|         90.0|\n",
            "| R1KM0DBK74Z3R|          5|          115|        119|   N|                N|        96.64|\n",
            "|R3T4HINM69I38K|          1|           27|         31|   N|                N|         87.1|\n",
            "|R2IDDQMDC67W3Z|          5|           32|         34|   N|                Y|        94.12|\n",
            "|R37RN3JT1XGWQP|          1|           20|         20|   N|                Y|        100.0|\n",
            "|R34MOM6UWMK1XQ|          2|           91|        122|   N|                Y|        74.59|\n",
            "| RCV62OQO4MUYP|          5|           25|         25|   N|                Y|        100.0|\n",
            "|R2CHBK4ZPVJ389|          5|           18|         22|   N|                N|        81.82|\n",
            "| RIUWOFZ472SXI|          2|           24|         24|   N|                Y|        100.0|\n",
            "|R31SUU9WQ0DLGX|          4|           20|         21|   N|                N|        95.24|\n",
            "| R6KI6K8CV94TN|          2|           20|         28|   N|                Y|        71.43|\n",
            "|R1I951J088J1IR|          5|           21|         23|   N|                Y|         91.3|\n",
            "+--------------+-----------+-------------+-----------+----+-----------------+-------------+\n",
            "only showing top 20 rows\n",
            "\n"
          ]
        }
      ]
    },
    {
      "cell_type": "markdown",
      "source": [
        "**5. Utilizing Filtered Reviews from Above**\n",
        "See following cell for Number 5 completed for ALL reviews"
      ],
      "metadata": {
        "id": "HMXLb1xi1HKc"
      }
    },
    {
      "cell_type": "code",
      "source": [
        "#5. Determine the total number of reviews, the number of 5-star reviews, and the percentage of 5-star reviews for the two types of review (paid vs unpaid).\n",
        "\n",
        "#Count of all reviews\n",
        "total_review_count1 = helpful_df.count()\n",
        "\n",
        "print(f'The total number of reviews is {total_review_count1}')\n",
        "\n",
        "#Count of 5-star reviews\n",
        "five_star_df1 = helpful_df.filter(\"star_rating == 5\")\n",
        "five_star_count1 = five_star_df1.count()\n",
        "print(f'The total number of five star reviews is {five_star_count1}')\n",
        "\n",
        "\n",
        "# Paid five star percent\n",
        "all_paid_df1 = helpful_df.filter(\"vine = 'Y'\")\n",
        "paid_count1 = all_paid_df1.count()\n",
        "paid_star_group_df1= all_paid_df1.groupby(\"star_rating\").agg({\"review_id\": \"count\"}).withColumnRenamed(\"count(review_id)\", \"paid_review_id_count\")\n",
        "paid_percents_df1 = paid_star_group_df1.withColumn(\"star_percentages\", round(paid_star_group_df1['paid_review_id_count']/paid_count1*100, 2))\n",
        "\n",
        "print(f\"The percentages of star reviews for all paid reviews is:\")\n",
        "paid_percents_df1.orderBy(paid_star_group_df1[\"star_rating\"].desc()).show()\n",
        "\n",
        "# Unpaid five star percent\n",
        "all_unpaid_df1 = helpful_df.filter(\"vine = 'N'\")\n",
        "unpaid_count1 = all_unpaid_df1.count()\n",
        "unpaid_star_group_df1 = all_unpaid_df1.groupby(\"star_rating\").agg({\"review_id\": \"count\"}).withColumnRenamed(\"count(review_id)\", \"unpaid_review_id_count\")\n",
        "unpaid_percents_df1 = unpaid_star_group_df1.withColumn(\"star_percentages\", round(unpaid_star_group_df1['unpaid_review_id_count']/unpaid_count1*100, 2))\n",
        "\n",
        "print(f\"The percentages of star reviews for all unpaid reviews is:\")\n",
        "unpaid_percents_df1.orderBy(unpaid_star_group_df1[\"star_rating\"].desc()).show()\n",
        "\n",
        "\n",
        "# Total Number of Vine Reviews\n",
        "total_vine_grouped_df1 = helpful_df.groupby(\"vine\").agg({\"review_id\": \"count\"}).withColumnRenamed(\"count(review_id)\", \"paid_unpaid_review_id_count\")\n",
        "total_vine_grouped_df1.show()\n",
        "\n",
        "\n",
        "#Percentage of 5-star reviews versus all reviews - paid vs unpaid\n",
        "vine_grouped_df1 = five_star_df1.groupby(\"vine\").agg({\"review_id\": \"count\"}).withColumnRenamed(\"count(review_id)\", \"five_star_review_id_count\")\n",
        "vine_five_star_percents1 = vine_grouped_df1.withColumn(\"five_star_percentages\", round(vine_grouped_df1['five_star_review_id_count']/total_review_count1*100, 2))\n",
        "vine_five_star_percents1.show()\n",
        "\n",
        "#Percentage of all star reviews - paid vs unpaid\n",
        "star_group_df1 = helpful_df.groupby(\"star_rating\", \"vine\").agg({\"review_id\": \"count\"}).withColumnRenamed(\"count(review_id)\", \"review_id_count\")\n",
        "star_group_percents = star_group_df1.withColumn(\"star_percentages\", round(star_group_df1['review_id_count']/total_review_count1*100, 2))\n",
        "star_group_percents.orderBy(star_group_df1[\"star_rating\"].desc()).show()\n",
        "\n"
      ],
      "metadata": {
        "colab": {
          "base_uri": "https://localhost:8080/"
        },
        "id": "QxXJVCtxJ1E0",
        "outputId": "67f01b08-f0e0-47cf-d31a-26863e5fbce6"
      },
      "execution_count": null,
      "outputs": [
        {
          "output_type": "stream",
          "name": "stdout",
          "text": [
            "The total number of reviews is 28339\n",
            "The total number of five star reviews is 15706\n",
            "The percentages of star reviews for all paid reviews is:\n",
            "+-----------+--------------------+----------------+\n",
            "|star_rating|paid_review_id_count|star_percentages|\n",
            "+-----------+--------------------+----------------+\n",
            "|          5|                  20|           32.79|\n",
            "|          4|                  17|           27.87|\n",
            "|          3|                  11|           18.03|\n",
            "|          2|                   6|            9.84|\n",
            "|          1|                   7|           11.48|\n",
            "+-----------+--------------------+----------------+\n",
            "\n",
            "The percentages of star reviews for all unpaid reviews is:\n",
            "+-----------+----------------------+----------------+\n",
            "|star_rating|unpaid_review_id_count|star_percentages|\n",
            "+-----------+----------------------+----------------+\n",
            "|          5|                 15686|           55.47|\n",
            "|          4|                  2599|            9.19|\n",
            "|          3|                  1931|            6.83|\n",
            "|          2|                  1655|            5.85|\n",
            "|          1|                  6407|           22.66|\n",
            "+-----------+----------------------+----------------+\n",
            "\n",
            "+----+---------------------------+\n",
            "|vine|paid_unpaid_review_id_count|\n",
            "+----+---------------------------+\n",
            "|   Y|                         61|\n",
            "|   N|                      28278|\n",
            "+----+---------------------------+\n",
            "\n",
            "+----+-------------------------+---------------------+\n",
            "|vine|five_star_review_id_count|five_star_percentages|\n",
            "+----+-------------------------+---------------------+\n",
            "|   Y|                       20|                 0.07|\n",
            "|   N|                    15686|                55.35|\n",
            "+----+-------------------------+---------------------+\n",
            "\n",
            "+-----------+----+---------------+----------------+\n",
            "|star_rating|vine|review_id_count|star_percentages|\n",
            "+-----------+----+---------------+----------------+\n",
            "|          5|   N|          15686|           55.35|\n",
            "|          5|   Y|             20|            0.07|\n",
            "|          4|   Y|             17|            0.06|\n",
            "|          4|   N|           2599|            9.17|\n",
            "|          3|   Y|             11|            0.04|\n",
            "|          3|   N|           1931|            6.81|\n",
            "|          2|   Y|              6|            0.02|\n",
            "|          2|   N|           1655|            5.84|\n",
            "|          1|   N|           6407|           22.61|\n",
            "|          1|   Y|              7|            0.02|\n",
            "+-----------+----+---------------+----------------+\n",
            "\n"
          ]
        }
      ]
    },
    {
      "cell_type": "markdown",
      "source": [
        "**5. Utilizing ALL Reviews**"
      ],
      "metadata": {
        "id": "kWfc6zNu03U6"
      }
    },
    {
      "cell_type": "code",
      "source": [
        "#5. Determine the total number of reviews, the number of 5-star reviews, and the percentage of 5-star reviews for the two types of review (paid vs unpaid).\n",
        "\n",
        "#Count of all reviews\n",
        "total_review_count = vine_df.count()\n",
        "\n",
        "print(f'The total number of reviews is {total_review_count}')\n",
        "\n",
        "#Count of 5-star reviews\n",
        "five_star_df = vine_df.filter(\"star_rating == 5\")\n",
        "five_star_count = five_star_df.count()\n",
        "print(f'The total number of five star reviews is {five_star_count}')\n",
        "\n",
        "\n",
        "# Paid five star percent\n",
        "all_paid_df = vine_df.filter(\"vine = 'Y'\")\n",
        "paid_count = all_paid_df.count()\n",
        "paid_star_group_df= all_paid_df.groupby(\"star_rating\").agg({\"review_id\": \"count\"}).withColumnRenamed(\"count(review_id)\", \"paid_review_id_count\")\n",
        "paid_percents_df = paid_star_group_df.withColumn(\"star_percentages\", round(paid_star_group_df['paid_review_id_count']/paid_count*100, 2))\n",
        "\n",
        "print(f\"The percentages of star reviews for all paid reviews is:\")\n",
        "paid_percents_df.orderBy(paid_star_group_df[\"star_rating\"].desc()).show()\n",
        "\n",
        "# Unpaid five star percent\n",
        "all_unpaid_df = vine_df.filter(\"vine = 'N'\")\n",
        "unpaid_count = all_unpaid_df.count()\n",
        "unpaid_star_group_df= all_unpaid_df.groupby(\"star_rating\").agg({\"review_id\": \"count\"}).withColumnRenamed(\"count(review_id)\", \"unpaid_review_id_count\")\n",
        "unpaid_percents_df = unpaid_star_group_df.withColumn(\"star_percentages\", round(unpaid_star_group_df['unpaid_review_id_count']/unpaid_count*100, 2))\n",
        "\n",
        "print(f\"The percentages of star reviews for all unpaid reviews is:\")\n",
        "unpaid_percents_df.orderBy(unpaid_star_group_df[\"star_rating\"].desc()).show()\n",
        "\n",
        "\n",
        "# Total Number of Vine Reviews\n",
        "total_vine_grouped_df = vine_df.groupby(\"vine\").agg({\"review_id\": \"count\"}).withColumnRenamed(\"count(review_id)\", \"paid_unpaid_review_id_count\")\n",
        "total_vine_grouped_df.show()\n",
        "\n",
        "\n",
        "#Percentage of 5-star reviews versus all reviews - paid vs unpaid\n",
        "vine_grouped_df = five_star_df.groupby(\"vine\").agg({\"review_id\": \"count\"}).withColumnRenamed(\"count(review_id)\", \"five_star_review_id_count\")\n",
        "vine_five_star_percents = vine_grouped_df.withColumn(\"five_star_percentages\", round(vine_grouped_df['five_star_review_id_count']/total_review_count*100, 2))\n",
        "vine_five_star_percents.show()\n",
        "\n",
        "#Percentage of all star reviews - paid vs unpaid\n",
        "star_group_df = vine_df.groupby(\"star_rating\", \"vine\").agg({\"review_id\": \"count\"}).withColumnRenamed(\"count(review_id)\", \"review_id_count\")\n",
        "star_group_percents = star_group_df.withColumn(\"star_percentages\", round(star_group_df['review_id_count']/total_review_count*100, 2))\n",
        "star_group_percents.orderBy(star_group_df[\"star_rating\"].desc()).show()\n"
      ],
      "metadata": {
        "colab": {
          "base_uri": "https://localhost:8080/"
        },
        "id": "hE1LpcH70sXA",
        "outputId": "09ce1d53-81f1-45fa-cfcb-89b281aeab12"
      },
      "execution_count": null,
      "outputs": [
        {
          "output_type": "stream",
          "name": "stdout",
          "text": [
            "The total number of reviews is 2402212\n",
            "The total number of five star reviews is 1662118\n",
            "The percentages of star reviews for all paid reviews is:\n",
            "+-----------+--------------------+----------------+\n",
            "|star_rating|paid_review_id_count|star_percentages|\n",
            "+-----------+--------------------+----------------+\n",
            "|          5|                5657|           34.06|\n",
            "|          4|                5965|           35.91|\n",
            "|          3|                3324|           20.01|\n",
            "|          2|                1223|            7.36|\n",
            "|          1|                 442|            2.66|\n",
            "+-----------+--------------------+----------------+\n",
            "\n",
            "The percentages of star reviews for all unpaid reviews is:\n",
            "+-----------+----------------------+----------------+\n",
            "|star_rating|unpaid_review_id_count|star_percentages|\n",
            "+-----------+----------------------+----------------+\n",
            "|          5|               1656461|           69.44|\n",
            "|          4|                287396|           12.05|\n",
            "|          3|                158155|            6.63|\n",
            "|          2|                104033|            4.36|\n",
            "|          1|                179556|            7.53|\n",
            "+-----------+----------------------+----------------+\n",
            "\n",
            "+----+---------------------------+\n",
            "|vine|paid_unpaid_review_id_count|\n",
            "+----+---------------------------+\n",
            "|   Y|                      16611|\n",
            "|   N|                    2385601|\n",
            "+----+---------------------------+\n",
            "\n",
            "+----+-------------------------+---------------------+\n",
            "|vine|five_star_review_id_count|five_star_percentages|\n",
            "+----+-------------------------+---------------------+\n",
            "|   Y|                     5657|                 0.24|\n",
            "|   N|                  1656461|                68.96|\n",
            "+----+-------------------------+---------------------+\n",
            "\n",
            "+-----------+----+---------------+----------------+\n",
            "|star_rating|vine|review_id_count|star_percentages|\n",
            "+-----------+----+---------------+----------------+\n",
            "|          5|   N|        1656461|           68.96|\n",
            "|          5|   Y|           5657|            0.24|\n",
            "|          4|   N|         287396|           11.96|\n",
            "|          4|   Y|           5965|            0.25|\n",
            "|          3|   N|         158155|            6.58|\n",
            "|          3|   Y|           3324|            0.14|\n",
            "|          2|   Y|           1223|            0.05|\n",
            "|          2|   N|         104033|            4.33|\n",
            "|          1|   N|         179556|            7.47|\n",
            "|          1|   Y|            442|            0.02|\n",
            "+-----------+----+---------------+----------------+\n",
            "\n"
          ]
        }
      ]
    },
    {
      "cell_type": "code",
      "source": [
        "#Breakdown of 5-star reviews - paid vs unpaid\n",
        "five_star_grouped_df = five_star_df.groupby(\"vine\").agg({\"review_id\": \"count\"}).withColumnRenamed(\"count(review_id)\", \"review_id_count\")\n",
        "five_star_percents = five_star_grouped_df.withColumn(\"five_star_percentages\", round(five_star_grouped_df['review_id_count']/five_star_count*100, 2))\n",
        "five_star_percents.show()"
      ],
      "metadata": {
        "colab": {
          "base_uri": "https://localhost:8080/"
        },
        "id": "_8S6fyNUJ1SX",
        "outputId": "88e22358-74ac-4c58-9fc6-7e2830c2e27c"
      },
      "execution_count": null,
      "outputs": [
        {
          "output_type": "stream",
          "name": "stdout",
          "text": [
            "+----+---------------+---------------------+\n",
            "|vine|review_id_count|five_star_percentages|\n",
            "+----+---------------+---------------------+\n",
            "|   Y|           5657|                 0.34|\n",
            "|   N|        1656461|                99.66|\n",
            "+----+---------------+---------------------+\n",
            "\n"
          ]
        }
      ]
    },
    {
      "cell_type": "code",
      "source": [
        ""
      ],
      "metadata": {
        "id": "aQSiOnIV0pGe"
      },
      "execution_count": null,
      "outputs": []
    }
  ]
}